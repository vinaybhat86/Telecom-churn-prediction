{
 "cells": [
  {
   "cell_type": "markdown",
   "id": "18e67a8a-d27a-4f58-891c-77562e45d048",
   "metadata": {
    "slideshow": {
     "slide_type": "notes"
    },
    "tags": []
   },
   "source": [
    "#                  Churn Prediction on telecom dataset"
   ]
  },
  {
   "cell_type": "code",
   "execution_count": 1,
   "id": "ef7844cd-6b9a-470e-aede-c2de6d74e4f3",
   "metadata": {
    "id": "52acd5d7",
    "tags": []
   },
   "outputs": [],
   "source": [
    "#importing pandas library\n",
    "#Pandas is a popular data manipulation and analysis library in Python\n",
    "import pandas as pd"
   ]
  },
  {
   "cell_type": "code",
   "execution_count": 2,
   "id": "ed1a7076",
   "metadata": {
    "id": "ed1a7076",
    "tags": []
   },
   "outputs": [],
   "source": [
    "#reading the csv file named telecom.csv and storing it in 'data' variable\n",
    "data = pd.read_csv(\"telecom.csv\")"
   ]
  },
  {
   "cell_type": "markdown",
   "id": "7f2539fc",
   "metadata": {
    "tags": []
   },
   "source": [
    "# 1.Data Preprocessing"
   ]
  },
  {
   "cell_type": "code",
   "execution_count": 3,
   "id": "5f180156",
   "metadata": {
    "id": "5f180156",
    "outputId": "b9682c88-7296-492f-cc22-7b92624fa589",
    "tags": []
   },
   "outputs": [
    {
     "data": {
      "text/plain": [
       "Unnamed: 0        0\n",
       "state             0\n",
       "area.code         0\n",
       "account.length    0\n",
       "voice.plan        0\n",
       "voice.messages    0\n",
       "intl.plan         0\n",
       "intl.mins         0\n",
       "intl.calls        0\n",
       "intl.charge       0\n",
       "day.mins          0\n",
       "day.calls         0\n",
       "day.charge        0\n",
       "eve.mins          0\n",
       "eve.calls         0\n",
       "eve.charge        0\n",
       "night.mins        0\n",
       "night.calls       0\n",
       "night.charge      0\n",
       "customer.calls    0\n",
       "churn             0\n",
       "dtype: int64"
      ]
     },
     "execution_count": 3,
     "metadata": {},
     "output_type": "execute_result"
    }
   ],
   "source": [
    "#checking the count of null values in the dataset\n",
    "data.isna().sum()"
   ]
  },
  {
   "cell_type": "code",
   "execution_count": 4,
   "id": "0771636e",
   "metadata": {
    "id": "0771636e",
    "outputId": "c5929bca-38bb-4c38-a00b-75d861c74ada",
    "tags": []
   },
   "outputs": [
    {
     "name": "stdout",
     "output_type": "stream",
     "text": [
      "<class 'pandas.core.frame.DataFrame'>\n",
      "RangeIndex: 5000 entries, 0 to 4999\n",
      "Data columns (total 21 columns):\n",
      " #   Column          Non-Null Count  Dtype  \n",
      "---  ------          --------------  -----  \n",
      " 0   Unnamed: 0      5000 non-null   int64  \n",
      " 1   state           5000 non-null   object \n",
      " 2   area.code       5000 non-null   object \n",
      " 3   account.length  5000 non-null   int64  \n",
      " 4   voice.plan      5000 non-null   object \n",
      " 5   voice.messages  5000 non-null   int64  \n",
      " 6   intl.plan       5000 non-null   object \n",
      " 7   intl.mins       5000 non-null   float64\n",
      " 8   intl.calls      5000 non-null   int64  \n",
      " 9   intl.charge     5000 non-null   float64\n",
      " 10  day.mins        5000 non-null   float64\n",
      " 11  day.calls       5000 non-null   int64  \n",
      " 12  day.charge      5000 non-null   object \n",
      " 13  eve.mins        5000 non-null   object \n",
      " 14  eve.calls       5000 non-null   int64  \n",
      " 15  eve.charge      5000 non-null   float64\n",
      " 16  night.mins      5000 non-null   float64\n",
      " 17  night.calls     5000 non-null   int64  \n",
      " 18  night.charge    5000 non-null   float64\n",
      " 19  customer.calls  5000 non-null   int64  \n",
      " 20  churn           5000 non-null   object \n",
      "dtypes: float64(6), int64(8), object(7)\n",
      "memory usage: 820.4+ KB\n"
     ]
    }
   ],
   "source": [
    "''' it will display a summary of information, including the number of non-null values, data types of columns,\n",
    " and memory usage.'''\n",
    "data.info()"
   ]
  },
  {
   "cell_type": "code",
   "execution_count": 5,
   "id": "1fc7ede7",
   "metadata": {
    "id": "1fc7ede7",
    "tags": []
   },
   "outputs": [],
   "source": [
    "#Here I'm storing the columns with yes or no values in a variable cat_cols\n",
    "cat_cols = [\"voice.plan\",\"intl.plan\",\"day.charge\",\"eve.mins\",\"churn\"]\n"
   ]
  },
  {
   "cell_type": "code",
   "execution_count": 6,
   "id": "7d4a20fe",
   "metadata": {
    "id": "7d4a20fe",
    "tags": []
   },
   "outputs": [],
   "source": [
    "#replacing the yes with 1 and no with 0\n",
    "data[cat_cols] = data[cat_cols].replace({\"yes\":1,\"no\":0}).astype(\"float\")"
   ]
  },
  {
   "cell_type": "code",
   "execution_count": 7,
   "id": "f3384a31",
   "metadata": {
    "id": "f3384a31",
    "outputId": "0041e40d-046d-49bb-8f17-8fb36447c506"
   },
   "outputs": [
    {
     "name": "stdout",
     "output_type": "stream",
     "text": [
      "<class 'pandas.core.frame.DataFrame'>\n",
      "RangeIndex: 5000 entries, 0 to 4999\n",
      "Data columns (total 21 columns):\n",
      " #   Column          Non-Null Count  Dtype  \n",
      "---  ------          --------------  -----  \n",
      " 0   Unnamed: 0      5000 non-null   int64  \n",
      " 1   state           5000 non-null   object \n",
      " 2   area.code       5000 non-null   object \n",
      " 3   account.length  5000 non-null   int64  \n",
      " 4   voice.plan      5000 non-null   float64\n",
      " 5   voice.messages  5000 non-null   int64  \n",
      " 6   intl.plan       5000 non-null   float64\n",
      " 7   intl.mins       5000 non-null   float64\n",
      " 8   intl.calls      5000 non-null   int64  \n",
      " 9   intl.charge     5000 non-null   float64\n",
      " 10  day.mins        5000 non-null   float64\n",
      " 11  day.calls       5000 non-null   int64  \n",
      " 12  day.charge      4993 non-null   float64\n",
      " 13  eve.mins        4976 non-null   float64\n",
      " 14  eve.calls       5000 non-null   int64  \n",
      " 15  eve.charge      5000 non-null   float64\n",
      " 16  night.mins      5000 non-null   float64\n",
      " 17  night.calls     5000 non-null   int64  \n",
      " 18  night.charge    5000 non-null   float64\n",
      " 19  customer.calls  5000 non-null   int64  \n",
      " 20  churn           5000 non-null   float64\n",
      "dtypes: float64(11), int64(8), object(2)\n",
      "memory usage: 820.4+ KB\n"
     ]
    }
   ],
   "source": [
    "#checking the columns for the changes done(object to float conversion)\n",
    "data.info()"
   ]
  },
  {
   "cell_type": "markdown",
   "id": "f057dd77",
   "metadata": {
    "tags": []
   },
   "source": [
    "# 2.Handling null values"
   ]
  },
  {
   "cell_type": "code",
   "execution_count": 8,
   "id": "55530fdb",
   "metadata": {
    "id": "55530fdb",
    "tags": []
   },
   "outputs": [],
   "source": [
    "#filling the null values in day.charge column with mean value of the column\n",
    "data[\"day.charge\"].fillna(data[\"day.charge\"].mean(),inplace=True)"
   ]
  },
  {
   "cell_type": "code",
   "execution_count": 9,
   "id": "342c24e8",
   "metadata": {
    "id": "342c24e8",
    "outputId": "4c9167e4-e85a-4c20-9ba3-6b898d5c0758",
    "tags": []
   },
   "outputs": [
    {
     "name": "stdout",
     "output_type": "stream",
     "text": [
      "<class 'pandas.core.frame.DataFrame'>\n",
      "RangeIndex: 5000 entries, 0 to 4999\n",
      "Data columns (total 21 columns):\n",
      " #   Column          Non-Null Count  Dtype  \n",
      "---  ------          --------------  -----  \n",
      " 0   Unnamed: 0      5000 non-null   int64  \n",
      " 1   state           5000 non-null   object \n",
      " 2   area.code       5000 non-null   object \n",
      " 3   account.length  5000 non-null   int64  \n",
      " 4   voice.plan      5000 non-null   float64\n",
      " 5   voice.messages  5000 non-null   int64  \n",
      " 6   intl.plan       5000 non-null   float64\n",
      " 7   intl.mins       5000 non-null   float64\n",
      " 8   intl.calls      5000 non-null   int64  \n",
      " 9   intl.charge     5000 non-null   float64\n",
      " 10  day.mins        5000 non-null   float64\n",
      " 11  day.calls       5000 non-null   int64  \n",
      " 12  day.charge      5000 non-null   float64\n",
      " 13  eve.mins        4976 non-null   float64\n",
      " 14  eve.calls       5000 non-null   int64  \n",
      " 15  eve.charge      5000 non-null   float64\n",
      " 16  night.mins      5000 non-null   float64\n",
      " 17  night.calls     5000 non-null   int64  \n",
      " 18  night.charge    5000 non-null   float64\n",
      " 19  customer.calls  5000 non-null   int64  \n",
      " 20  churn           5000 non-null   float64\n",
      "dtypes: float64(11), int64(8), object(2)\n",
      "memory usage: 820.4+ KB\n"
     ]
    }
   ],
   "source": [
    "data.info()"
   ]
  },
  {
   "cell_type": "code",
   "execution_count": 10,
   "id": "01b1fb00",
   "metadata": {
    "id": "01b1fb00",
    "tags": []
   },
   "outputs": [],
   "source": [
    "#filling the null values in eve.mins column with mean value of the column\n",
    "data[\"eve.mins\"].fillna(data[\"eve.mins\"].mean(),inplace=True)"
   ]
  },
  {
   "cell_type": "code",
   "execution_count": 11,
   "id": "47334b28",
   "metadata": {
    "id": "47334b28",
    "tags": []
   },
   "outputs": [],
   "source": [
    "#iloc method is used to select rows and columns from the dataset\n",
    "#x takes all the rows and 3rd-19th columns from the data(dataset)\n",
    "#x takes all the rows and 20th column from the data(dataset)\n",
    "x = data.iloc[:,3:20]\n",
    "y = data.iloc[:,20]"
   ]
  },
  {
   "cell_type": "code",
   "execution_count": 12,
   "id": "d97b3817",
   "metadata": {
    "id": "d97b3817",
    "outputId": "f00df7df-1b2b-4517-940e-55a4a4879cd2",
    "tags": []
   },
   "outputs": [
    {
     "data": {
      "text/html": [
       "<div>\n",
       "<style scoped>\n",
       "    .dataframe tbody tr th:only-of-type {\n",
       "        vertical-align: middle;\n",
       "    }\n",
       "\n",
       "    .dataframe tbody tr th {\n",
       "        vertical-align: top;\n",
       "    }\n",
       "\n",
       "    .dataframe thead th {\n",
       "        text-align: right;\n",
       "    }\n",
       "</style>\n",
       "<table border=\"1\" class=\"dataframe\">\n",
       "  <thead>\n",
       "    <tr style=\"text-align: right;\">\n",
       "      <th></th>\n",
       "      <th>account.length</th>\n",
       "      <th>voice.plan</th>\n",
       "      <th>voice.messages</th>\n",
       "      <th>intl.plan</th>\n",
       "      <th>intl.mins</th>\n",
       "      <th>intl.calls</th>\n",
       "      <th>intl.charge</th>\n",
       "      <th>day.mins</th>\n",
       "      <th>day.calls</th>\n",
       "      <th>day.charge</th>\n",
       "      <th>eve.mins</th>\n",
       "      <th>eve.calls</th>\n",
       "      <th>eve.charge</th>\n",
       "      <th>night.mins</th>\n",
       "      <th>night.calls</th>\n",
       "      <th>night.charge</th>\n",
       "      <th>customer.calls</th>\n",
       "    </tr>\n",
       "  </thead>\n",
       "  <tbody>\n",
       "    <tr>\n",
       "      <th>0</th>\n",
       "      <td>128</td>\n",
       "      <td>1.0</td>\n",
       "      <td>25</td>\n",
       "      <td>0.0</td>\n",
       "      <td>10.0</td>\n",
       "      <td>3</td>\n",
       "      <td>2.70</td>\n",
       "      <td>265.1</td>\n",
       "      <td>110</td>\n",
       "      <td>45.07</td>\n",
       "      <td>197.4</td>\n",
       "      <td>99</td>\n",
       "      <td>16.78</td>\n",
       "      <td>244.7</td>\n",
       "      <td>91</td>\n",
       "      <td>11.01</td>\n",
       "      <td>1</td>\n",
       "    </tr>\n",
       "    <tr>\n",
       "      <th>1</th>\n",
       "      <td>107</td>\n",
       "      <td>1.0</td>\n",
       "      <td>26</td>\n",
       "      <td>0.0</td>\n",
       "      <td>13.7</td>\n",
       "      <td>3</td>\n",
       "      <td>3.70</td>\n",
       "      <td>161.6</td>\n",
       "      <td>123</td>\n",
       "      <td>27.47</td>\n",
       "      <td>195.5</td>\n",
       "      <td>103</td>\n",
       "      <td>16.62</td>\n",
       "      <td>254.4</td>\n",
       "      <td>103</td>\n",
       "      <td>11.45</td>\n",
       "      <td>1</td>\n",
       "    </tr>\n",
       "    <tr>\n",
       "      <th>2</th>\n",
       "      <td>137</td>\n",
       "      <td>0.0</td>\n",
       "      <td>0</td>\n",
       "      <td>0.0</td>\n",
       "      <td>12.2</td>\n",
       "      <td>5</td>\n",
       "      <td>3.29</td>\n",
       "      <td>243.4</td>\n",
       "      <td>114</td>\n",
       "      <td>41.38</td>\n",
       "      <td>121.2</td>\n",
       "      <td>110</td>\n",
       "      <td>10.30</td>\n",
       "      <td>162.6</td>\n",
       "      <td>104</td>\n",
       "      <td>7.32</td>\n",
       "      <td>0</td>\n",
       "    </tr>\n",
       "    <tr>\n",
       "      <th>3</th>\n",
       "      <td>84</td>\n",
       "      <td>0.0</td>\n",
       "      <td>0</td>\n",
       "      <td>1.0</td>\n",
       "      <td>6.6</td>\n",
       "      <td>7</td>\n",
       "      <td>1.78</td>\n",
       "      <td>299.4</td>\n",
       "      <td>71</td>\n",
       "      <td>50.90</td>\n",
       "      <td>61.9</td>\n",
       "      <td>88</td>\n",
       "      <td>5.26</td>\n",
       "      <td>196.9</td>\n",
       "      <td>89</td>\n",
       "      <td>8.86</td>\n",
       "      <td>2</td>\n",
       "    </tr>\n",
       "    <tr>\n",
       "      <th>4</th>\n",
       "      <td>75</td>\n",
       "      <td>0.0</td>\n",
       "      <td>0</td>\n",
       "      <td>1.0</td>\n",
       "      <td>10.1</td>\n",
       "      <td>3</td>\n",
       "      <td>2.73</td>\n",
       "      <td>166.7</td>\n",
       "      <td>113</td>\n",
       "      <td>28.34</td>\n",
       "      <td>148.3</td>\n",
       "      <td>122</td>\n",
       "      <td>12.61</td>\n",
       "      <td>186.9</td>\n",
       "      <td>121</td>\n",
       "      <td>8.41</td>\n",
       "      <td>3</td>\n",
       "    </tr>\n",
       "    <tr>\n",
       "      <th>...</th>\n",
       "      <td>...</td>\n",
       "      <td>...</td>\n",
       "      <td>...</td>\n",
       "      <td>...</td>\n",
       "      <td>...</td>\n",
       "      <td>...</td>\n",
       "      <td>...</td>\n",
       "      <td>...</td>\n",
       "      <td>...</td>\n",
       "      <td>...</td>\n",
       "      <td>...</td>\n",
       "      <td>...</td>\n",
       "      <td>...</td>\n",
       "      <td>...</td>\n",
       "      <td>...</td>\n",
       "      <td>...</td>\n",
       "      <td>...</td>\n",
       "    </tr>\n",
       "    <tr>\n",
       "      <th>4995</th>\n",
       "      <td>50</td>\n",
       "      <td>1.0</td>\n",
       "      <td>40</td>\n",
       "      <td>0.0</td>\n",
       "      <td>9.9</td>\n",
       "      <td>5</td>\n",
       "      <td>2.67</td>\n",
       "      <td>235.7</td>\n",
       "      <td>127</td>\n",
       "      <td>40.07</td>\n",
       "      <td>223.0</td>\n",
       "      <td>126</td>\n",
       "      <td>18.96</td>\n",
       "      <td>297.5</td>\n",
       "      <td>116</td>\n",
       "      <td>13.39</td>\n",
       "      <td>2</td>\n",
       "    </tr>\n",
       "    <tr>\n",
       "      <th>4996</th>\n",
       "      <td>152</td>\n",
       "      <td>0.0</td>\n",
       "      <td>0</td>\n",
       "      <td>0.0</td>\n",
       "      <td>14.7</td>\n",
       "      <td>2</td>\n",
       "      <td>3.97</td>\n",
       "      <td>184.2</td>\n",
       "      <td>90</td>\n",
       "      <td>31.31</td>\n",
       "      <td>256.8</td>\n",
       "      <td>73</td>\n",
       "      <td>21.83</td>\n",
       "      <td>213.6</td>\n",
       "      <td>113</td>\n",
       "      <td>9.61</td>\n",
       "      <td>3</td>\n",
       "    </tr>\n",
       "    <tr>\n",
       "      <th>4997</th>\n",
       "      <td>61</td>\n",
       "      <td>0.0</td>\n",
       "      <td>0</td>\n",
       "      <td>0.0</td>\n",
       "      <td>13.6</td>\n",
       "      <td>4</td>\n",
       "      <td>3.67</td>\n",
       "      <td>140.6</td>\n",
       "      <td>89</td>\n",
       "      <td>23.90</td>\n",
       "      <td>172.8</td>\n",
       "      <td>128</td>\n",
       "      <td>14.69</td>\n",
       "      <td>212.4</td>\n",
       "      <td>97</td>\n",
       "      <td>9.56</td>\n",
       "      <td>1</td>\n",
       "    </tr>\n",
       "    <tr>\n",
       "      <th>4998</th>\n",
       "      <td>109</td>\n",
       "      <td>0.0</td>\n",
       "      <td>0</td>\n",
       "      <td>0.0</td>\n",
       "      <td>8.5</td>\n",
       "      <td>6</td>\n",
       "      <td>2.30</td>\n",
       "      <td>188.8</td>\n",
       "      <td>67</td>\n",
       "      <td>32.10</td>\n",
       "      <td>171.7</td>\n",
       "      <td>92</td>\n",
       "      <td>14.59</td>\n",
       "      <td>224.4</td>\n",
       "      <td>89</td>\n",
       "      <td>10.10</td>\n",
       "      <td>0</td>\n",
       "    </tr>\n",
       "    <tr>\n",
       "      <th>4999</th>\n",
       "      <td>86</td>\n",
       "      <td>1.0</td>\n",
       "      <td>34</td>\n",
       "      <td>0.0</td>\n",
       "      <td>9.3</td>\n",
       "      <td>16</td>\n",
       "      <td>2.51</td>\n",
       "      <td>129.4</td>\n",
       "      <td>102</td>\n",
       "      <td>22.00</td>\n",
       "      <td>267.1</td>\n",
       "      <td>104</td>\n",
       "      <td>22.70</td>\n",
       "      <td>154.8</td>\n",
       "      <td>100</td>\n",
       "      <td>6.97</td>\n",
       "      <td>0</td>\n",
       "    </tr>\n",
       "  </tbody>\n",
       "</table>\n",
       "<p>5000 rows × 17 columns</p>\n",
       "</div>"
      ],
      "text/plain": [
       "      account.length  voice.plan  voice.messages  intl.plan  intl.mins  \\\n",
       "0                128         1.0              25        0.0       10.0   \n",
       "1                107         1.0              26        0.0       13.7   \n",
       "2                137         0.0               0        0.0       12.2   \n",
       "3                 84         0.0               0        1.0        6.6   \n",
       "4                 75         0.0               0        1.0       10.1   \n",
       "...              ...         ...             ...        ...        ...   \n",
       "4995              50         1.0              40        0.0        9.9   \n",
       "4996             152         0.0               0        0.0       14.7   \n",
       "4997              61         0.0               0        0.0       13.6   \n",
       "4998             109         0.0               0        0.0        8.5   \n",
       "4999              86         1.0              34        0.0        9.3   \n",
       "\n",
       "      intl.calls  intl.charge  day.mins  day.calls  day.charge  eve.mins  \\\n",
       "0              3         2.70     265.1        110       45.07     197.4   \n",
       "1              3         3.70     161.6        123       27.47     195.5   \n",
       "2              5         3.29     243.4        114       41.38     121.2   \n",
       "3              7         1.78     299.4         71       50.90      61.9   \n",
       "4              3         2.73     166.7        113       28.34     148.3   \n",
       "...          ...          ...       ...        ...         ...       ...   \n",
       "4995           5         2.67     235.7        127       40.07     223.0   \n",
       "4996           2         3.97     184.2         90       31.31     256.8   \n",
       "4997           4         3.67     140.6         89       23.90     172.8   \n",
       "4998           6         2.30     188.8         67       32.10     171.7   \n",
       "4999          16         2.51     129.4        102       22.00     267.1   \n",
       "\n",
       "      eve.calls  eve.charge  night.mins  night.calls  night.charge  \\\n",
       "0            99       16.78       244.7           91         11.01   \n",
       "1           103       16.62       254.4          103         11.45   \n",
       "2           110       10.30       162.6          104          7.32   \n",
       "3            88        5.26       196.9           89          8.86   \n",
       "4           122       12.61       186.9          121          8.41   \n",
       "...         ...         ...         ...          ...           ...   \n",
       "4995        126       18.96       297.5          116         13.39   \n",
       "4996         73       21.83       213.6          113          9.61   \n",
       "4997        128       14.69       212.4           97          9.56   \n",
       "4998         92       14.59       224.4           89         10.10   \n",
       "4999        104       22.70       154.8          100          6.97   \n",
       "\n",
       "      customer.calls  \n",
       "0                  1  \n",
       "1                  1  \n",
       "2                  0  \n",
       "3                  2  \n",
       "4                  3  \n",
       "...              ...  \n",
       "4995               2  \n",
       "4996               3  \n",
       "4997               1  \n",
       "4998               0  \n",
       "4999               0  \n",
       "\n",
       "[5000 rows x 17 columns]"
      ]
     },
     "execution_count": 12,
     "metadata": {},
     "output_type": "execute_result"
    }
   ],
   "source": [
    "#displaying x\n",
    "x"
   ]
  },
  {
   "cell_type": "code",
   "execution_count": 13,
   "id": "d61a06f8",
   "metadata": {
    "id": "d61a06f8",
    "outputId": "b66bc98c-a72a-4479-f6e2-f41b87b7ed1a",
    "tags": []
   },
   "outputs": [
    {
     "data": {
      "text/plain": [
       "0       0.0\n",
       "1       0.0\n",
       "2       0.0\n",
       "3       0.0\n",
       "4       0.0\n",
       "       ... \n",
       "4995    0.0\n",
       "4996    1.0\n",
       "4997    0.0\n",
       "4998    0.0\n",
       "4999    0.0\n",
       "Name: churn, Length: 5000, dtype: float64"
      ]
     },
     "execution_count": 13,
     "metadata": {},
     "output_type": "execute_result"
    }
   ],
   "source": [
    "#displaying y\n",
    "y"
   ]
  },
  {
   "cell_type": "code",
   "execution_count": 14,
   "id": "7dd885db",
   "metadata": {
    "id": "7dd885db",
    "outputId": "a681b6df-7c49-43e7-c80b-c75f7db312a2",
    "tags": []
   },
   "outputs": [
    {
     "data": {
      "text/plain": [
       "account.length    0\n",
       "voice.plan        0\n",
       "voice.messages    0\n",
       "intl.plan         0\n",
       "intl.mins         0\n",
       "intl.calls        0\n",
       "intl.charge       0\n",
       "day.mins          0\n",
       "day.calls         0\n",
       "day.charge        0\n",
       "eve.mins          0\n",
       "eve.calls         0\n",
       "eve.charge        0\n",
       "night.mins        0\n",
       "night.calls       0\n",
       "night.charge      0\n",
       "customer.calls    0\n",
       "dtype: int64"
      ]
     },
     "execution_count": 14,
     "metadata": {},
     "output_type": "execute_result"
    }
   ],
   "source": [
    "x.isna().sum()"
   ]
  },
  {
   "cell_type": "code",
   "execution_count": 15,
   "id": "65872cef",
   "metadata": {
    "id": "65872cef",
    "outputId": "15576b6b-7ff3-44b9-b51c-b0ad7b7b8081",
    "tags": []
   },
   "outputs": [
    {
     "data": {
      "text/plain": [
       "array([[0.52479339, 1.        , 0.48076923, ..., 0.52      , 0.61958357,\n",
       "        0.11111111],\n",
       "       [0.43801653, 1.        , 0.5       , ..., 0.58857143, 0.6443444 ,\n",
       "        0.11111111],\n",
       "       [0.56198347, 0.        , 0.        , ..., 0.59428571, 0.41193022,\n",
       "        0.        ],\n",
       "       ...,\n",
       "       [0.24793388, 0.        , 0.        , ..., 0.55428571, 0.53798537,\n",
       "        0.11111111],\n",
       "       [0.44628099, 0.        , 0.        , ..., 0.50857143, 0.56837366,\n",
       "        0.        ],\n",
       "       [0.35123967, 1.        , 0.65384615, ..., 0.57142857, 0.3922341 ,\n",
       "        0.        ]])"
      ]
     },
     "execution_count": 15,
     "metadata": {},
     "output_type": "execute_result"
    }
   ],
   "source": [
    "#MinMaxScaler is a class used for scaling numerical features to a specific range, typically between 0 and 1.\n",
    "from sklearn.preprocessing import MinMaxScaler\n",
    "scaler=MinMaxScaler()\n",
    "scaled_features=scaler.fit_transform(x)\n",
    "scaled_features"
   ]
  },
  {
   "cell_type": "code",
   "execution_count": 16,
   "id": "e7cd4eef",
   "metadata": {
    "id": "e7cd4eef",
    "tags": []
   },
   "outputs": [],
   "source": [
    "'''train_test_split is a utility function in scikit-learn (sklearn) that splits our data into training and \n",
    "testing subsets. random_state=10, It ensures that the data split is the same every time you run the code,\n",
    "which is important for consistency'''\n",
    "from sklearn.model_selection import train_test_split\n",
    "x_train, x_test , y_train ,y_test = train_test_split(scaled_features,y,test_size=0.20,random_state=10)"
   ]
  },
  {
   "cell_type": "code",
   "execution_count": 17,
   "id": "fd717481",
   "metadata": {
    "id": "fd717481",
    "outputId": "79e814df-1f43-4606-c393-9d6248c9ce3e",
    "tags": []
   },
   "outputs": [
    {
     "data": {
      "text/plain": [
       "(4000, 17)"
      ]
     },
     "execution_count": 17,
     "metadata": {},
     "output_type": "execute_result"
    }
   ],
   "source": [
    "#no. of rows and columns\n",
    "x_train.shape"
   ]
  },
  {
   "cell_type": "code",
   "execution_count": 18,
   "id": "35d66b3a",
   "metadata": {
    "id": "35d66b3a",
    "outputId": "adbe3219-7f48-45d6-a6b8-e37821eb9d6e",
    "tags": []
   },
   "outputs": [
    {
     "data": {
      "text/plain": [
       "(4000,)"
      ]
     },
     "execution_count": 18,
     "metadata": {},
     "output_type": "execute_result"
    }
   ],
   "source": [
    "y_train.shape"
   ]
  },
  {
   "cell_type": "markdown",
   "id": "3d20db64",
   "metadata": {},
   "source": [
    "# 3.Model Selection"
   ]
  },
  {
   "cell_type": "code",
   "execution_count": 19,
   "id": "2db5c236",
   "metadata": {
    "id": "2db5c236",
    "tags": []
   },
   "outputs": [],
   "source": [
    "'''KNeighborsClassifier is a machine learning algorithm that falls under the category of supervised learning, \n",
    "specifically for classification tasks.It uses the k-nearest neighbors approach to classify data points based \n",
    "on the majority class among their k-nearest neighbors'''\n",
    "from sklearn.neighbors import KNeighborsClassifier\n",
    "#n_neighbors=7 argument specifies that the model should consider 7 nearest neighbors when making predictions.\n",
    "model = KNeighborsClassifier(n_neighbors=7)"
   ]
  },
  {
   "cell_type": "code",
   "execution_count": 20,
   "id": "40056f20",
   "metadata": {
    "id": "40056f20",
    "outputId": "e3c5dabf-8b58-4307-9529-cd30ec2d969f",
    "tags": []
   },
   "outputs": [
    {
     "data": {
      "text/html": [
       "<style>#sk-container-id-1 {color: black;background-color: white;}#sk-container-id-1 pre{padding: 0;}#sk-container-id-1 div.sk-toggleable {background-color: white;}#sk-container-id-1 label.sk-toggleable__label {cursor: pointer;display: block;width: 100%;margin-bottom: 0;padding: 0.3em;box-sizing: border-box;text-align: center;}#sk-container-id-1 label.sk-toggleable__label-arrow:before {content: \"▸\";float: left;margin-right: 0.25em;color: #696969;}#sk-container-id-1 label.sk-toggleable__label-arrow:hover:before {color: black;}#sk-container-id-1 div.sk-estimator:hover label.sk-toggleable__label-arrow:before {color: black;}#sk-container-id-1 div.sk-toggleable__content {max-height: 0;max-width: 0;overflow: hidden;text-align: left;background-color: #f0f8ff;}#sk-container-id-1 div.sk-toggleable__content pre {margin: 0.2em;color: black;border-radius: 0.25em;background-color: #f0f8ff;}#sk-container-id-1 input.sk-toggleable__control:checked~div.sk-toggleable__content {max-height: 200px;max-width: 100%;overflow: auto;}#sk-container-id-1 input.sk-toggleable__control:checked~label.sk-toggleable__label-arrow:before {content: \"▾\";}#sk-container-id-1 div.sk-estimator input.sk-toggleable__control:checked~label.sk-toggleable__label {background-color: #d4ebff;}#sk-container-id-1 div.sk-label input.sk-toggleable__control:checked~label.sk-toggleable__label {background-color: #d4ebff;}#sk-container-id-1 input.sk-hidden--visually {border: 0;clip: rect(1px 1px 1px 1px);clip: rect(1px, 1px, 1px, 1px);height: 1px;margin: -1px;overflow: hidden;padding: 0;position: absolute;width: 1px;}#sk-container-id-1 div.sk-estimator {font-family: monospace;background-color: #f0f8ff;border: 1px dotted black;border-radius: 0.25em;box-sizing: border-box;margin-bottom: 0.5em;}#sk-container-id-1 div.sk-estimator:hover {background-color: #d4ebff;}#sk-container-id-1 div.sk-parallel-item::after {content: \"\";width: 100%;border-bottom: 1px solid gray;flex-grow: 1;}#sk-container-id-1 div.sk-label:hover label.sk-toggleable__label {background-color: #d4ebff;}#sk-container-id-1 div.sk-serial::before {content: \"\";position: absolute;border-left: 1px solid gray;box-sizing: border-box;top: 0;bottom: 0;left: 50%;z-index: 0;}#sk-container-id-1 div.sk-serial {display: flex;flex-direction: column;align-items: center;background-color: white;padding-right: 0.2em;padding-left: 0.2em;position: relative;}#sk-container-id-1 div.sk-item {position: relative;z-index: 1;}#sk-container-id-1 div.sk-parallel {display: flex;align-items: stretch;justify-content: center;background-color: white;position: relative;}#sk-container-id-1 div.sk-item::before, #sk-container-id-1 div.sk-parallel-item::before {content: \"\";position: absolute;border-left: 1px solid gray;box-sizing: border-box;top: 0;bottom: 0;left: 50%;z-index: -1;}#sk-container-id-1 div.sk-parallel-item {display: flex;flex-direction: column;z-index: 1;position: relative;background-color: white;}#sk-container-id-1 div.sk-parallel-item:first-child::after {align-self: flex-end;width: 50%;}#sk-container-id-1 div.sk-parallel-item:last-child::after {align-self: flex-start;width: 50%;}#sk-container-id-1 div.sk-parallel-item:only-child::after {width: 0;}#sk-container-id-1 div.sk-dashed-wrapped {border: 1px dashed gray;margin: 0 0.4em 0.5em 0.4em;box-sizing: border-box;padding-bottom: 0.4em;background-color: white;}#sk-container-id-1 div.sk-label label {font-family: monospace;font-weight: bold;display: inline-block;line-height: 1.2em;}#sk-container-id-1 div.sk-label-container {text-align: center;}#sk-container-id-1 div.sk-container {/* jupyter's `normalize.less` sets `[hidden] { display: none; }` but bootstrap.min.css set `[hidden] { display: none !important; }` so we also need the `!important` here to be able to override the default hidden behavior on the sphinx rendered scikit-learn.org. See: https://github.com/scikit-learn/scikit-learn/issues/21755 */display: inline-block !important;position: relative;}#sk-container-id-1 div.sk-text-repr-fallback {display: none;}</style><div id=\"sk-container-id-1\" class=\"sk-top-container\"><div class=\"sk-text-repr-fallback\"><pre>KNeighborsClassifier(n_neighbors=7)</pre><b>In a Jupyter environment, please rerun this cell to show the HTML representation or trust the notebook. <br />On GitHub, the HTML representation is unable to render, please try loading this page with nbviewer.org.</b></div><div class=\"sk-container\" hidden><div class=\"sk-item\"><div class=\"sk-estimator sk-toggleable\"><input class=\"sk-toggleable__control sk-hidden--visually\" id=\"sk-estimator-id-1\" type=\"checkbox\" checked><label for=\"sk-estimator-id-1\" class=\"sk-toggleable__label sk-toggleable__label-arrow\">KNeighborsClassifier</label><div class=\"sk-toggleable__content\"><pre>KNeighborsClassifier(n_neighbors=7)</pre></div></div></div></div></div>"
      ],
      "text/plain": [
       "KNeighborsClassifier(n_neighbors=7)"
      ]
     },
     "execution_count": 20,
     "metadata": {},
     "output_type": "execute_result"
    }
   ],
   "source": [
    "model.fit(x_train,y_train)"
   ]
  },
  {
   "cell_type": "code",
   "execution_count": 21,
   "id": "b83927db",
   "metadata": {
    "id": "b83927db",
    "tags": []
   },
   "outputs": [],
   "source": [
    "pred = model.predict(x_test)"
   ]
  },
  {
   "cell_type": "code",
   "execution_count": 22,
   "id": "ab0c4f15",
   "metadata": {
    "id": "ab0c4f15",
    "outputId": "3915cd55-8396-4136-b327-d776eeacbf57",
    "tags": []
   },
   "outputs": [
    {
     "name": "stdout",
     "output_type": "stream",
     "text": [
      "              precision    recall  f1-score   support\n",
      "\n",
      "         0.0       0.90      1.00      0.95       851\n",
      "         1.0       0.93      0.37      0.53       149\n",
      "\n",
      "    accuracy                           0.90      1000\n",
      "   macro avg       0.92      0.68      0.74      1000\n",
      "weighted avg       0.90      0.90      0.88      1000\n",
      "\n"
     ]
    }
   ],
   "source": [
    "from sklearn.metrics import *\n",
    "print(classification_report(y_test,pred))"
   ]
  },
  {
   "cell_type": "code",
   "execution_count": 23,
   "id": "63c5888e",
   "metadata": {
    "id": "63c5888e",
    "tags": []
   },
   "outputs": [],
   "source": [
    "accuracy = []\n",
    "for i in range(1,30,2):\n",
    "    model = KNeighborsClassifier(n_neighbors=i)\n",
    "    model.fit(x_train,y_train)\n",
    "    pred = model.predict(x_test)\n",
    "    accuracy.append(accuracy_score(y_test,pred))"
   ]
  },
  {
   "cell_type": "code",
   "execution_count": 24,
   "id": "ed8972e3-14c8-4bda-aed8-62f6205c8c9e",
   "metadata": {
    "tags": []
   },
   "outputs": [
    {
     "data": {
      "text/plain": [
       "[0.878,\n",
       " 0.896,\n",
       " 0.898,\n",
       " 0.902,\n",
       " 0.899,\n",
       " 0.901,\n",
       " 0.9,\n",
       " 0.894,\n",
       " 0.895,\n",
       " 0.898,\n",
       " 0.892,\n",
       " 0.891,\n",
       " 0.889,\n",
       " 0.885,\n",
       " 0.885]"
      ]
     },
     "execution_count": 24,
     "metadata": {},
     "output_type": "execute_result"
    }
   ],
   "source": [
    "accuracy"
   ]
  },
  {
   "cell_type": "code",
   "execution_count": 25,
   "id": "a7222326",
   "metadata": {
    "id": "a7222326",
    "outputId": "30be7362-439a-4d26-f8c5-73384195aaf4",
    "tags": []
   },
   "outputs": [
    {
     "data": {
      "image/png": "[encoded data removed]",
      "text/plain": [
       "<Figure size 1500x500 with 1 Axes>"
      ]
     },
     "metadata": {},
     "output_type": "display_data"
    }
   ],
   "source": [
    "    import matplotlib.pyplot as plt\n",
    "    plt.figure(figsize=(15,5))\n",
    "    plt.title(\"CHURN CHART\")\n",
    "    plt.xlabel(\"K-Values\")\n",
    "    plt.ylabel(\"Accuracy\")\n",
    "    plt.ylim(0.3,1)\n",
    "    #this line plots a line chart using the 'range(1, 30, 2)' as the x-values (k-values) and the 'accuracy' list as the y-values.\n",
    "    plt.plot(range(1,30,2),accuracy)\n",
    "    #This line plots a bar chart using the same x-values and y-values. \n",
    "    plt.bar(range(1,30,2),accuracy)\n",
    "    # Sets the x-axis ticks to be the same as the k-values (range from 1 to 29 with a step of 2).\n",
    "    plt.xticks(range(1,30,2))\n",
    "    plt.show()"
   ]
  },
  {
   "cell_type": "code",
   "execution_count": null,
   "id": "c12d2a14-a9d5-4d3d-a089-9f6e1f444871",
   "metadata": {},
   "outputs": [],
   "source": []
  }
 ],
 "metadata": {
  "colab": {
   "provenance": []
  },
  "kernelspec": {
   "display_name": "Python 3 (ipykernel)",
   "language": "python",
   "name": "python3"
  },
  "language_info": {
   "codemirror_mode": {
    "name": "ipython",
    "version": 3
   },
   "file_extension": ".py",
   "mimetype": "text/x-python",
   "name": "python",
   "nbconvert_exporter": "python",
   "pygments_lexer": "ipython3",
   "version": "3.11.3"
  }
 },
 "nbformat": 4,
 "nbformat_minor": 5
}
